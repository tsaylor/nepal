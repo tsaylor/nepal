{
 "cells": [
  {
   "cell_type": "code",
   "execution_count": null,
   "metadata": {
    "collapsed": true
   },
   "outputs": [],
   "source": [
    "import twython\n",
    "api = twython.Twython('HSIBJGmTQYgiZ8vUC18iQVVNk', 'pa94YWzC8rtzX2I6zO8nVCFwHzJXkS8anzuO9DnHVvJkN9j0Sl',\n",
    "                      profile.oauth_token, profile.oauth_token_secret)\n"
   ]
  }
 ],
 "metadata": {
  "kernelspec": {
   "display_name": "Python 2",
   "language": "python",
   "name": "python2"
  },
  "language_info": {
   "codemirror_mode": {
    "name": "ipython",
    "version": 2
   },
   "file_extension": ".py",
   "mimetype": "text/x-python",
   "name": "python",
   "nbconvert_exporter": "python",
   "pygments_lexer": "ipython2",
   "version": "2.7.6"
  }
 },
 "nbformat": 4,
 "nbformat_minor": 0
}
